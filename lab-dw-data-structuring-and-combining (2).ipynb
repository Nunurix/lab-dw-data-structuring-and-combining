{
 "cells": [
  {
   "cell_type": "markdown",
   "id": "25d7736c-ba17-4aff-b6bb-66eba20fbf4e",
   "metadata": {
    "id": "25d7736c-ba17-4aff-b6bb-66eba20fbf4e"
   },
   "source": [
    "# Lab | Data Structuring and Combining Data"
   ]
  },
  {
   "cell_type": "markdown",
   "id": "a2cdfc70-44c8-478c-81e7-2bc43fdf4986",
   "metadata": {
    "id": "a2cdfc70-44c8-478c-81e7-2bc43fdf4986"
   },
   "source": [
    "## Challenge 1: Combining & Cleaning Data\n",
    "\n",
    "In this challenge, we will be working with the customer data from an insurance company, as we did in the two previous labs. The data can be found here:\n",
    "- https://raw.githubusercontent.com/data-bootcamp-v4/data/main/file1.csv\n",
    "\n",
    "But this time, we got new data, which can be found in the following 2 CSV files located at the links below.\n",
    "\n",
    "- https://raw.githubusercontent.com/data-bootcamp-v4/data/main/file2.csv\n",
    "- https://raw.githubusercontent.com/data-bootcamp-v4/data/main/file3.csv\n",
    "\n",
    "Note that you'll need to clean and format the new data.\n",
    "\n",
    "Observation:\n",
    "- One option is to first combine the three datasets and then apply the cleaning function to the new combined dataset\n",
    "- Another option would be to read the clean file you saved in the previous lab, and just clean the two new files and concatenate the three clean datasets"
   ]
  },
  {
   "cell_type": "code",
   "execution_count": 181,
   "id": "b22d176e",
   "metadata": {},
   "outputs": [],
   "source": [
    "import pandas as pd"
   ]
  },
  {
   "cell_type": "code",
   "execution_count": 182,
   "id": "5537a6c4",
   "metadata": {},
   "outputs": [
    {
     "data": {
      "text/html": [
       "<div>\n",
       "<style scoped>\n",
       "    .dataframe tbody tr th:only-of-type {\n",
       "        vertical-align: middle;\n",
       "    }\n",
       "\n",
       "    .dataframe tbody tr th {\n",
       "        vertical-align: top;\n",
       "    }\n",
       "\n",
       "    .dataframe thead th {\n",
       "        text-align: right;\n",
       "    }\n",
       "</style>\n",
       "<table border=\"1\" class=\"dataframe\">\n",
       "  <thead>\n",
       "    <tr style=\"text-align: right;\">\n",
       "      <th></th>\n",
       "      <th>Customer</th>\n",
       "      <th>ST</th>\n",
       "      <th>GENDER</th>\n",
       "      <th>Education</th>\n",
       "      <th>Customer Lifetime Value</th>\n",
       "      <th>Income</th>\n",
       "      <th>Monthly Premium Auto</th>\n",
       "      <th>Number of Open Complaints</th>\n",
       "      <th>Policy Type</th>\n",
       "      <th>Vehicle Class</th>\n",
       "      <th>Total Claim Amount</th>\n",
       "    </tr>\n",
       "  </thead>\n",
       "  <tbody>\n",
       "    <tr>\n",
       "      <th>0</th>\n",
       "      <td>RB50392</td>\n",
       "      <td>Washington</td>\n",
       "      <td>NaN</td>\n",
       "      <td>Master</td>\n",
       "      <td>NaN</td>\n",
       "      <td>0.0</td>\n",
       "      <td>1000.0</td>\n",
       "      <td>1/0/00</td>\n",
       "      <td>Personal Auto</td>\n",
       "      <td>Four-Door Car</td>\n",
       "      <td>2.704934</td>\n",
       "    </tr>\n",
       "    <tr>\n",
       "      <th>1</th>\n",
       "      <td>QZ44356</td>\n",
       "      <td>Arizona</td>\n",
       "      <td>F</td>\n",
       "      <td>Bachelor</td>\n",
       "      <td>697953.59%</td>\n",
       "      <td>0.0</td>\n",
       "      <td>94.0</td>\n",
       "      <td>1/0/00</td>\n",
       "      <td>Personal Auto</td>\n",
       "      <td>Four-Door Car</td>\n",
       "      <td>1131.464935</td>\n",
       "    </tr>\n",
       "    <tr>\n",
       "      <th>2</th>\n",
       "      <td>AI49188</td>\n",
       "      <td>Nevada</td>\n",
       "      <td>F</td>\n",
       "      <td>Bachelor</td>\n",
       "      <td>1288743.17%</td>\n",
       "      <td>48767.0</td>\n",
       "      <td>108.0</td>\n",
       "      <td>1/0/00</td>\n",
       "      <td>Personal Auto</td>\n",
       "      <td>Two-Door Car</td>\n",
       "      <td>566.472247</td>\n",
       "    </tr>\n",
       "    <tr>\n",
       "      <th>3</th>\n",
       "      <td>WW63253</td>\n",
       "      <td>California</td>\n",
       "      <td>M</td>\n",
       "      <td>Bachelor</td>\n",
       "      <td>764586.18%</td>\n",
       "      <td>0.0</td>\n",
       "      <td>106.0</td>\n",
       "      <td>1/0/00</td>\n",
       "      <td>Corporate Auto</td>\n",
       "      <td>SUV</td>\n",
       "      <td>529.881344</td>\n",
       "    </tr>\n",
       "    <tr>\n",
       "      <th>4</th>\n",
       "      <td>GA49547</td>\n",
       "      <td>Washington</td>\n",
       "      <td>M</td>\n",
       "      <td>High School or Below</td>\n",
       "      <td>536307.65%</td>\n",
       "      <td>36357.0</td>\n",
       "      <td>68.0</td>\n",
       "      <td>1/0/00</td>\n",
       "      <td>Personal Auto</td>\n",
       "      <td>Four-Door Car</td>\n",
       "      <td>17.269323</td>\n",
       "    </tr>\n",
       "    <tr>\n",
       "      <th>...</th>\n",
       "      <td>...</td>\n",
       "      <td>...</td>\n",
       "      <td>...</td>\n",
       "      <td>...</td>\n",
       "      <td>...</td>\n",
       "      <td>...</td>\n",
       "      <td>...</td>\n",
       "      <td>...</td>\n",
       "      <td>...</td>\n",
       "      <td>...</td>\n",
       "      <td>...</td>\n",
       "    </tr>\n",
       "    <tr>\n",
       "      <th>4003</th>\n",
       "      <td>NaN</td>\n",
       "      <td>NaN</td>\n",
       "      <td>NaN</td>\n",
       "      <td>NaN</td>\n",
       "      <td>NaN</td>\n",
       "      <td>NaN</td>\n",
       "      <td>NaN</td>\n",
       "      <td>NaN</td>\n",
       "      <td>NaN</td>\n",
       "      <td>NaN</td>\n",
       "      <td>NaN</td>\n",
       "    </tr>\n",
       "    <tr>\n",
       "      <th>4004</th>\n",
       "      <td>NaN</td>\n",
       "      <td>NaN</td>\n",
       "      <td>NaN</td>\n",
       "      <td>NaN</td>\n",
       "      <td>NaN</td>\n",
       "      <td>NaN</td>\n",
       "      <td>NaN</td>\n",
       "      <td>NaN</td>\n",
       "      <td>NaN</td>\n",
       "      <td>NaN</td>\n",
       "      <td>NaN</td>\n",
       "    </tr>\n",
       "    <tr>\n",
       "      <th>4005</th>\n",
       "      <td>NaN</td>\n",
       "      <td>NaN</td>\n",
       "      <td>NaN</td>\n",
       "      <td>NaN</td>\n",
       "      <td>NaN</td>\n",
       "      <td>NaN</td>\n",
       "      <td>NaN</td>\n",
       "      <td>NaN</td>\n",
       "      <td>NaN</td>\n",
       "      <td>NaN</td>\n",
       "      <td>NaN</td>\n",
       "    </tr>\n",
       "    <tr>\n",
       "      <th>4006</th>\n",
       "      <td>NaN</td>\n",
       "      <td>NaN</td>\n",
       "      <td>NaN</td>\n",
       "      <td>NaN</td>\n",
       "      <td>NaN</td>\n",
       "      <td>NaN</td>\n",
       "      <td>NaN</td>\n",
       "      <td>NaN</td>\n",
       "      <td>NaN</td>\n",
       "      <td>NaN</td>\n",
       "      <td>NaN</td>\n",
       "    </tr>\n",
       "    <tr>\n",
       "      <th>4007</th>\n",
       "      <td>NaN</td>\n",
       "      <td>NaN</td>\n",
       "      <td>NaN</td>\n",
       "      <td>NaN</td>\n",
       "      <td>NaN</td>\n",
       "      <td>NaN</td>\n",
       "      <td>NaN</td>\n",
       "      <td>NaN</td>\n",
       "      <td>NaN</td>\n",
       "      <td>NaN</td>\n",
       "      <td>NaN</td>\n",
       "    </tr>\n",
       "  </tbody>\n",
       "</table>\n",
       "<p>4008 rows × 11 columns</p>\n",
       "</div>"
      ],
      "text/plain": [
       "     Customer          ST GENDER             Education  \\\n",
       "0     RB50392  Washington    NaN                Master   \n",
       "1     QZ44356     Arizona      F              Bachelor   \n",
       "2     AI49188      Nevada      F              Bachelor   \n",
       "3     WW63253  California      M              Bachelor   \n",
       "4     GA49547  Washington      M  High School or Below   \n",
       "...       ...         ...    ...                   ...   \n",
       "4003      NaN         NaN    NaN                   NaN   \n",
       "4004      NaN         NaN    NaN                   NaN   \n",
       "4005      NaN         NaN    NaN                   NaN   \n",
       "4006      NaN         NaN    NaN                   NaN   \n",
       "4007      NaN         NaN    NaN                   NaN   \n",
       "\n",
       "     Customer Lifetime Value   Income  Monthly Premium Auto  \\\n",
       "0                        NaN      0.0                1000.0   \n",
       "1                 697953.59%      0.0                  94.0   \n",
       "2                1288743.17%  48767.0                 108.0   \n",
       "3                 764586.18%      0.0                 106.0   \n",
       "4                 536307.65%  36357.0                  68.0   \n",
       "...                      ...      ...                   ...   \n",
       "4003                     NaN      NaN                   NaN   \n",
       "4004                     NaN      NaN                   NaN   \n",
       "4005                     NaN      NaN                   NaN   \n",
       "4006                     NaN      NaN                   NaN   \n",
       "4007                     NaN      NaN                   NaN   \n",
       "\n",
       "     Number of Open Complaints     Policy Type  Vehicle Class  \\\n",
       "0                       1/0/00   Personal Auto  Four-Door Car   \n",
       "1                       1/0/00   Personal Auto  Four-Door Car   \n",
       "2                       1/0/00   Personal Auto   Two-Door Car   \n",
       "3                       1/0/00  Corporate Auto            SUV   \n",
       "4                       1/0/00   Personal Auto  Four-Door Car   \n",
       "...                        ...             ...            ...   \n",
       "4003                       NaN             NaN            NaN   \n",
       "4004                       NaN             NaN            NaN   \n",
       "4005                       NaN             NaN            NaN   \n",
       "4006                       NaN             NaN            NaN   \n",
       "4007                       NaN             NaN            NaN   \n",
       "\n",
       "      Total Claim Amount  \n",
       "0               2.704934  \n",
       "1            1131.464935  \n",
       "2             566.472247  \n",
       "3             529.881344  \n",
       "4              17.269323  \n",
       "...                  ...  \n",
       "4003                 NaN  \n",
       "4004                 NaN  \n",
       "4005                 NaN  \n",
       "4006                 NaN  \n",
       "4007                 NaN  \n",
       "\n",
       "[4008 rows x 11 columns]"
      ]
     },
     "execution_count": 182,
     "metadata": {},
     "output_type": "execute_result"
    }
   ],
   "source": [
    "url = 'https://raw.githubusercontent.com/data-bootcamp-v4/data/main/file1.csv'\n",
    "df1 = pd.read_csv(url)\n",
    "\n",
    "df1"
   ]
  },
  {
   "cell_type": "code",
   "execution_count": 183,
   "id": "1236e016",
   "metadata": {},
   "outputs": [
    {
     "data": {
      "text/html": [
       "<div>\n",
       "<style scoped>\n",
       "    .dataframe tbody tr th:only-of-type {\n",
       "        vertical-align: middle;\n",
       "    }\n",
       "\n",
       "    .dataframe tbody tr th {\n",
       "        vertical-align: top;\n",
       "    }\n",
       "\n",
       "    .dataframe thead th {\n",
       "        text-align: right;\n",
       "    }\n",
       "</style>\n",
       "<table border=\"1\" class=\"dataframe\">\n",
       "  <thead>\n",
       "    <tr style=\"text-align: right;\">\n",
       "      <th></th>\n",
       "      <th>Customer</th>\n",
       "      <th>ST</th>\n",
       "      <th>GENDER</th>\n",
       "      <th>Education</th>\n",
       "      <th>Customer Lifetime Value</th>\n",
       "      <th>Income</th>\n",
       "      <th>Monthly Premium Auto</th>\n",
       "      <th>Number of Open Complaints</th>\n",
       "      <th>Total Claim Amount</th>\n",
       "      <th>Policy Type</th>\n",
       "      <th>Vehicle Class</th>\n",
       "    </tr>\n",
       "  </thead>\n",
       "  <tbody>\n",
       "    <tr>\n",
       "      <th>0</th>\n",
       "      <td>GS98873</td>\n",
       "      <td>Arizona</td>\n",
       "      <td>F</td>\n",
       "      <td>Bachelor</td>\n",
       "      <td>323912.47%</td>\n",
       "      <td>16061</td>\n",
       "      <td>88</td>\n",
       "      <td>1/0/00</td>\n",
       "      <td>633.600000</td>\n",
       "      <td>Personal Auto</td>\n",
       "      <td>Four-Door Car</td>\n",
       "    </tr>\n",
       "    <tr>\n",
       "      <th>1</th>\n",
       "      <td>CW49887</td>\n",
       "      <td>California</td>\n",
       "      <td>F</td>\n",
       "      <td>Master</td>\n",
       "      <td>462680.11%</td>\n",
       "      <td>79487</td>\n",
       "      <td>114</td>\n",
       "      <td>1/0/00</td>\n",
       "      <td>547.200000</td>\n",
       "      <td>Special Auto</td>\n",
       "      <td>SUV</td>\n",
       "    </tr>\n",
       "    <tr>\n",
       "      <th>2</th>\n",
       "      <td>MY31220</td>\n",
       "      <td>California</td>\n",
       "      <td>F</td>\n",
       "      <td>College</td>\n",
       "      <td>899704.02%</td>\n",
       "      <td>54230</td>\n",
       "      <td>112</td>\n",
       "      <td>1/0/00</td>\n",
       "      <td>537.600000</td>\n",
       "      <td>Personal Auto</td>\n",
       "      <td>Two-Door Car</td>\n",
       "    </tr>\n",
       "    <tr>\n",
       "      <th>3</th>\n",
       "      <td>UH35128</td>\n",
       "      <td>Oregon</td>\n",
       "      <td>F</td>\n",
       "      <td>College</td>\n",
       "      <td>2580706.30%</td>\n",
       "      <td>71210</td>\n",
       "      <td>214</td>\n",
       "      <td>1/1/00</td>\n",
       "      <td>1027.200000</td>\n",
       "      <td>Personal Auto</td>\n",
       "      <td>Luxury Car</td>\n",
       "    </tr>\n",
       "    <tr>\n",
       "      <th>4</th>\n",
       "      <td>WH52799</td>\n",
       "      <td>Arizona</td>\n",
       "      <td>F</td>\n",
       "      <td>College</td>\n",
       "      <td>380812.21%</td>\n",
       "      <td>94903</td>\n",
       "      <td>94</td>\n",
       "      <td>1/0/00</td>\n",
       "      <td>451.200000</td>\n",
       "      <td>Corporate Auto</td>\n",
       "      <td>Two-Door Car</td>\n",
       "    </tr>\n",
       "    <tr>\n",
       "      <th>...</th>\n",
       "      <td>...</td>\n",
       "      <td>...</td>\n",
       "      <td>...</td>\n",
       "      <td>...</td>\n",
       "      <td>...</td>\n",
       "      <td>...</td>\n",
       "      <td>...</td>\n",
       "      <td>...</td>\n",
       "      <td>...</td>\n",
       "      <td>...</td>\n",
       "      <td>...</td>\n",
       "    </tr>\n",
       "    <tr>\n",
       "      <th>991</th>\n",
       "      <td>HV85198</td>\n",
       "      <td>Arizona</td>\n",
       "      <td>M</td>\n",
       "      <td>Master</td>\n",
       "      <td>847141.75%</td>\n",
       "      <td>63513</td>\n",
       "      <td>70</td>\n",
       "      <td>1/0/00</td>\n",
       "      <td>185.667213</td>\n",
       "      <td>Personal Auto</td>\n",
       "      <td>Four-Door Car</td>\n",
       "    </tr>\n",
       "    <tr>\n",
       "      <th>992</th>\n",
       "      <td>BS91566</td>\n",
       "      <td>Arizona</td>\n",
       "      <td>F</td>\n",
       "      <td>College</td>\n",
       "      <td>543121.91%</td>\n",
       "      <td>58161</td>\n",
       "      <td>68</td>\n",
       "      <td>1/0/00</td>\n",
       "      <td>140.747286</td>\n",
       "      <td>Corporate Auto</td>\n",
       "      <td>Four-Door Car</td>\n",
       "    </tr>\n",
       "    <tr>\n",
       "      <th>993</th>\n",
       "      <td>IL40123</td>\n",
       "      <td>Nevada</td>\n",
       "      <td>F</td>\n",
       "      <td>College</td>\n",
       "      <td>568964.41%</td>\n",
       "      <td>83640</td>\n",
       "      <td>70</td>\n",
       "      <td>1/0/00</td>\n",
       "      <td>471.050488</td>\n",
       "      <td>Corporate Auto</td>\n",
       "      <td>Two-Door Car</td>\n",
       "    </tr>\n",
       "    <tr>\n",
       "      <th>994</th>\n",
       "      <td>MY32149</td>\n",
       "      <td>California</td>\n",
       "      <td>F</td>\n",
       "      <td>Master</td>\n",
       "      <td>368672.38%</td>\n",
       "      <td>0</td>\n",
       "      <td>96</td>\n",
       "      <td>1/0/00</td>\n",
       "      <td>28.460568</td>\n",
       "      <td>Personal Auto</td>\n",
       "      <td>Two-Door Car</td>\n",
       "    </tr>\n",
       "    <tr>\n",
       "      <th>995</th>\n",
       "      <td>SA91515</td>\n",
       "      <td>California</td>\n",
       "      <td>M</td>\n",
       "      <td>Bachelor</td>\n",
       "      <td>399258.39%</td>\n",
       "      <td>0</td>\n",
       "      <td>111</td>\n",
       "      <td>1/0/00</td>\n",
       "      <td>700.349052</td>\n",
       "      <td>Personal Auto</td>\n",
       "      <td>SUV</td>\n",
       "    </tr>\n",
       "  </tbody>\n",
       "</table>\n",
       "<p>996 rows × 11 columns</p>\n",
       "</div>"
      ],
      "text/plain": [
       "    Customer          ST GENDER Education Customer Lifetime Value  Income  \\\n",
       "0    GS98873     Arizona      F  Bachelor              323912.47%   16061   \n",
       "1    CW49887  California      F    Master              462680.11%   79487   \n",
       "2    MY31220  California      F   College              899704.02%   54230   \n",
       "3    UH35128      Oregon      F   College             2580706.30%   71210   \n",
       "4    WH52799     Arizona      F   College              380812.21%   94903   \n",
       "..       ...         ...    ...       ...                     ...     ...   \n",
       "991  HV85198     Arizona      M    Master              847141.75%   63513   \n",
       "992  BS91566     Arizona      F   College              543121.91%   58161   \n",
       "993  IL40123      Nevada      F   College              568964.41%   83640   \n",
       "994  MY32149  California      F    Master              368672.38%       0   \n",
       "995  SA91515  California      M  Bachelor              399258.39%       0   \n",
       "\n",
       "     Monthly Premium Auto Number of Open Complaints  Total Claim Amount  \\\n",
       "0                      88                    1/0/00          633.600000   \n",
       "1                     114                    1/0/00          547.200000   \n",
       "2                     112                    1/0/00          537.600000   \n",
       "3                     214                    1/1/00         1027.200000   \n",
       "4                      94                    1/0/00          451.200000   \n",
       "..                    ...                       ...                 ...   \n",
       "991                    70                    1/0/00          185.667213   \n",
       "992                    68                    1/0/00          140.747286   \n",
       "993                    70                    1/0/00          471.050488   \n",
       "994                    96                    1/0/00           28.460568   \n",
       "995                   111                    1/0/00          700.349052   \n",
       "\n",
       "        Policy Type  Vehicle Class  \n",
       "0     Personal Auto  Four-Door Car  \n",
       "1      Special Auto            SUV  \n",
       "2     Personal Auto   Two-Door Car  \n",
       "3     Personal Auto     Luxury Car  \n",
       "4    Corporate Auto   Two-Door Car  \n",
       "..              ...            ...  \n",
       "991   Personal Auto  Four-Door Car  \n",
       "992  Corporate Auto  Four-Door Car  \n",
       "993  Corporate Auto   Two-Door Car  \n",
       "994   Personal Auto   Two-Door Car  \n",
       "995   Personal Auto            SUV  \n",
       "\n",
       "[996 rows x 11 columns]"
      ]
     },
     "execution_count": 183,
     "metadata": {},
     "output_type": "execute_result"
    }
   ],
   "source": [
    "url = 'https://raw.githubusercontent.com/data-bootcamp-v4/data/main/file2.csv'\n",
    "df2 = pd.read_csv(url)\n",
    "\n",
    "df2"
   ]
  },
  {
   "cell_type": "code",
   "execution_count": 184,
   "id": "c563082d",
   "metadata": {},
   "outputs": [
    {
     "data": {
      "text/html": [
       "<div>\n",
       "<style scoped>\n",
       "    .dataframe tbody tr th:only-of-type {\n",
       "        vertical-align: middle;\n",
       "    }\n",
       "\n",
       "    .dataframe tbody tr th {\n",
       "        vertical-align: top;\n",
       "    }\n",
       "\n",
       "    .dataframe thead th {\n",
       "        text-align: right;\n",
       "    }\n",
       "</style>\n",
       "<table border=\"1\" class=\"dataframe\">\n",
       "  <thead>\n",
       "    <tr style=\"text-align: right;\">\n",
       "      <th></th>\n",
       "      <th>Customer</th>\n",
       "      <th>State</th>\n",
       "      <th>Customer Lifetime Value</th>\n",
       "      <th>Education</th>\n",
       "      <th>Gender</th>\n",
       "      <th>Income</th>\n",
       "      <th>Monthly Premium Auto</th>\n",
       "      <th>Number of Open Complaints</th>\n",
       "      <th>Policy Type</th>\n",
       "      <th>Total Claim Amount</th>\n",
       "      <th>Vehicle Class</th>\n",
       "    </tr>\n",
       "  </thead>\n",
       "  <tbody>\n",
       "    <tr>\n",
       "      <th>0</th>\n",
       "      <td>SA25987</td>\n",
       "      <td>Washington</td>\n",
       "      <td>3479.137523</td>\n",
       "      <td>High School or Below</td>\n",
       "      <td>M</td>\n",
       "      <td>0</td>\n",
       "      <td>104</td>\n",
       "      <td>0</td>\n",
       "      <td>Personal Auto</td>\n",
       "      <td>499.200000</td>\n",
       "      <td>Two-Door Car</td>\n",
       "    </tr>\n",
       "    <tr>\n",
       "      <th>1</th>\n",
       "      <td>TB86706</td>\n",
       "      <td>Arizona</td>\n",
       "      <td>2502.637401</td>\n",
       "      <td>Master</td>\n",
       "      <td>M</td>\n",
       "      <td>0</td>\n",
       "      <td>66</td>\n",
       "      <td>0</td>\n",
       "      <td>Personal Auto</td>\n",
       "      <td>3.468912</td>\n",
       "      <td>Two-Door Car</td>\n",
       "    </tr>\n",
       "    <tr>\n",
       "      <th>2</th>\n",
       "      <td>ZL73902</td>\n",
       "      <td>Nevada</td>\n",
       "      <td>3265.156348</td>\n",
       "      <td>Bachelor</td>\n",
       "      <td>F</td>\n",
       "      <td>25820</td>\n",
       "      <td>82</td>\n",
       "      <td>0</td>\n",
       "      <td>Personal Auto</td>\n",
       "      <td>393.600000</td>\n",
       "      <td>Four-Door Car</td>\n",
       "    </tr>\n",
       "    <tr>\n",
       "      <th>3</th>\n",
       "      <td>KX23516</td>\n",
       "      <td>California</td>\n",
       "      <td>4455.843406</td>\n",
       "      <td>High School or Below</td>\n",
       "      <td>F</td>\n",
       "      <td>0</td>\n",
       "      <td>121</td>\n",
       "      <td>0</td>\n",
       "      <td>Personal Auto</td>\n",
       "      <td>699.615192</td>\n",
       "      <td>SUV</td>\n",
       "    </tr>\n",
       "    <tr>\n",
       "      <th>4</th>\n",
       "      <td>FN77294</td>\n",
       "      <td>California</td>\n",
       "      <td>7704.958480</td>\n",
       "      <td>High School or Below</td>\n",
       "      <td>M</td>\n",
       "      <td>30366</td>\n",
       "      <td>101</td>\n",
       "      <td>2</td>\n",
       "      <td>Personal Auto</td>\n",
       "      <td>484.800000</td>\n",
       "      <td>SUV</td>\n",
       "    </tr>\n",
       "    <tr>\n",
       "      <th>...</th>\n",
       "      <td>...</td>\n",
       "      <td>...</td>\n",
       "      <td>...</td>\n",
       "      <td>...</td>\n",
       "      <td>...</td>\n",
       "      <td>...</td>\n",
       "      <td>...</td>\n",
       "      <td>...</td>\n",
       "      <td>...</td>\n",
       "      <td>...</td>\n",
       "      <td>...</td>\n",
       "    </tr>\n",
       "    <tr>\n",
       "      <th>7065</th>\n",
       "      <td>LA72316</td>\n",
       "      <td>California</td>\n",
       "      <td>23405.987980</td>\n",
       "      <td>Bachelor</td>\n",
       "      <td>M</td>\n",
       "      <td>71941</td>\n",
       "      <td>73</td>\n",
       "      <td>0</td>\n",
       "      <td>Personal Auto</td>\n",
       "      <td>198.234764</td>\n",
       "      <td>Four-Door Car</td>\n",
       "    </tr>\n",
       "    <tr>\n",
       "      <th>7066</th>\n",
       "      <td>PK87824</td>\n",
       "      <td>California</td>\n",
       "      <td>3096.511217</td>\n",
       "      <td>College</td>\n",
       "      <td>F</td>\n",
       "      <td>21604</td>\n",
       "      <td>79</td>\n",
       "      <td>0</td>\n",
       "      <td>Corporate Auto</td>\n",
       "      <td>379.200000</td>\n",
       "      <td>Four-Door Car</td>\n",
       "    </tr>\n",
       "    <tr>\n",
       "      <th>7067</th>\n",
       "      <td>TD14365</td>\n",
       "      <td>California</td>\n",
       "      <td>8163.890428</td>\n",
       "      <td>Bachelor</td>\n",
       "      <td>M</td>\n",
       "      <td>0</td>\n",
       "      <td>85</td>\n",
       "      <td>3</td>\n",
       "      <td>Corporate Auto</td>\n",
       "      <td>790.784983</td>\n",
       "      <td>Four-Door Car</td>\n",
       "    </tr>\n",
       "    <tr>\n",
       "      <th>7068</th>\n",
       "      <td>UP19263</td>\n",
       "      <td>California</td>\n",
       "      <td>7524.442436</td>\n",
       "      <td>College</td>\n",
       "      <td>M</td>\n",
       "      <td>21941</td>\n",
       "      <td>96</td>\n",
       "      <td>0</td>\n",
       "      <td>Personal Auto</td>\n",
       "      <td>691.200000</td>\n",
       "      <td>Four-Door Car</td>\n",
       "    </tr>\n",
       "    <tr>\n",
       "      <th>7069</th>\n",
       "      <td>Y167826</td>\n",
       "      <td>California</td>\n",
       "      <td>2611.836866</td>\n",
       "      <td>College</td>\n",
       "      <td>M</td>\n",
       "      <td>0</td>\n",
       "      <td>77</td>\n",
       "      <td>0</td>\n",
       "      <td>Corporate Auto</td>\n",
       "      <td>369.600000</td>\n",
       "      <td>Two-Door Car</td>\n",
       "    </tr>\n",
       "  </tbody>\n",
       "</table>\n",
       "<p>7070 rows × 11 columns</p>\n",
       "</div>"
      ],
      "text/plain": [
       "     Customer       State  Customer Lifetime Value             Education  \\\n",
       "0     SA25987  Washington              3479.137523  High School or Below   \n",
       "1     TB86706     Arizona              2502.637401                Master   \n",
       "2     ZL73902      Nevada              3265.156348              Bachelor   \n",
       "3     KX23516  California              4455.843406  High School or Below   \n",
       "4     FN77294  California              7704.958480  High School or Below   \n",
       "...       ...         ...                      ...                   ...   \n",
       "7065  LA72316  California             23405.987980              Bachelor   \n",
       "7066  PK87824  California              3096.511217               College   \n",
       "7067  TD14365  California              8163.890428              Bachelor   \n",
       "7068  UP19263  California              7524.442436               College   \n",
       "7069  Y167826  California              2611.836866               College   \n",
       "\n",
       "     Gender  Income  Monthly Premium Auto  Number of Open Complaints  \\\n",
       "0         M       0                   104                          0   \n",
       "1         M       0                    66                          0   \n",
       "2         F   25820                    82                          0   \n",
       "3         F       0                   121                          0   \n",
       "4         M   30366                   101                          2   \n",
       "...     ...     ...                   ...                        ...   \n",
       "7065      M   71941                    73                          0   \n",
       "7066      F   21604                    79                          0   \n",
       "7067      M       0                    85                          3   \n",
       "7068      M   21941                    96                          0   \n",
       "7069      M       0                    77                          0   \n",
       "\n",
       "         Policy Type  Total Claim Amount  Vehicle Class  \n",
       "0      Personal Auto          499.200000   Two-Door Car  \n",
       "1      Personal Auto            3.468912   Two-Door Car  \n",
       "2      Personal Auto          393.600000  Four-Door Car  \n",
       "3      Personal Auto          699.615192            SUV  \n",
       "4      Personal Auto          484.800000            SUV  \n",
       "...              ...                 ...            ...  \n",
       "7065   Personal Auto          198.234764  Four-Door Car  \n",
       "7066  Corporate Auto          379.200000  Four-Door Car  \n",
       "7067  Corporate Auto          790.784983  Four-Door Car  \n",
       "7068   Personal Auto          691.200000  Four-Door Car  \n",
       "7069  Corporate Auto          369.600000   Two-Door Car  \n",
       "\n",
       "[7070 rows x 11 columns]"
      ]
     },
     "execution_count": 184,
     "metadata": {},
     "output_type": "execute_result"
    }
   ],
   "source": [
    "url = 'https://raw.githubusercontent.com/data-bootcamp-v4/data/main/file3.csv'\n",
    "df3 = pd.read_csv(url)\n",
    "\n",
    "df3"
   ]
  },
  {
   "cell_type": "code",
   "execution_count": 185,
   "id": "492d06e3-92c7-4105-ac72-536db98d3244",
   "metadata": {
    "id": "492d06e3-92c7-4105-ac72-536db98d3244"
   },
   "outputs": [
    {
     "name": "stdout",
     "output_type": "stream",
     "text": [
      "Index(['Customer', 'State', 'Gender', 'Education', 'Customer Lifetime Value',\n",
      "       'Income', 'Monthly Premium Auto', 'Number of Complaints', 'Policy Type',\n",
      "       'Vehicle Class', 'Total Claim Amount'],\n",
      "      dtype='object')\n"
     ]
    }
   ],
   "source": [
    "# Unificar los nombres de las columnas\n",
    "column_mappings = {\n",
    "    'ST': 'State',\n",
    "    'GENDER': 'Gender',\n",
    "    'Income': 'Income',\n",
    "    'Number of Open Complaints': 'Number of Complaints',\n",
    "}\n",
    "\n",
    "df1 = df1.rename(columns=column_mappings)\n",
    "# Verificar los nuevos nombres de las columnas\n",
    "print(df1.columns)"
   ]
  },
  {
   "cell_type": "code",
   "execution_count": 186,
   "id": "0bcd764c",
   "metadata": {},
   "outputs": [],
   "source": [
    "# Limpiar valores inválidos\n",
    "# Género\n",
    "replacements_gender = {\n",
    "    'F': 'F', 'Femal': 'F', 'female': 'F', 'M': 'M', 'Male': 'M'\n",
    "}\n",
    "df1['Gender'] = df1['Gender'].replace(replacements_gender)\n",
    "\n",
    "# Estado\n",
    "replacements_state = {\n",
    "    'arizona': 'Arizona', 'az': 'Arizona', 'california': 'California', 'cali': 'California', 'washington': 'Washington', 'wa': 'Washington'\n",
    "}\n",
    "df1['State'] = df1['State'].replace(replacements_state)\n",
    "\n",
    "# Educación\n",
    "replacements_education = {\n",
    "    'Bachelors': 'Bachelor', 'Masters': 'Master', 'High School or Below': 'High School or Below', 'College': 'College', 'Doctor': 'Doctor'\n",
    "}\n",
    "df1['Education'] = df1['Education'].replace(replacements_education)\n",
    "\n",
    "# Clase de vehículo\n",
    "replacements_vehicle = {\n",
    "    'Sports Car': 'Luxury', 'Luxury SUV': 'Luxury', 'Luxury Car': 'Luxury'\n",
    "}\n",
    "df1['Vehicle Class'] = df1['Vehicle Class'].replace(replacements_vehicle)\n",
    "\n",
    "# Customer Lifetime Value\n",
    "# Eliminar el carácter %\n",
    "df1['Customer Lifetime Value'] = df1['Customer Lifetime Value'].str.replace('%', '')"
   ]
  },
  {
   "cell_type": "code",
   "execution_count": 187,
   "id": "30640962",
   "metadata": {},
   "outputs": [],
   "source": [
    "df1_sin_NAN=df1.dropna()"
   ]
  },
  {
   "cell_type": "code",
   "execution_count": 188,
   "id": "f3eb75d3",
   "metadata": {},
   "outputs": [
    {
     "name": "stderr",
     "output_type": "stream",
     "text": [
      "/var/folders/sp/p06qbz7d3qd0gsdys45vg8x80000gn/T/ipykernel_80001/957722470.py:2: SettingWithCopyWarning: \n",
      "A value is trying to be set on a copy of a slice from a DataFrame.\n",
      "Try using .loc[row_indexer,col_indexer] = value instead\n",
      "\n",
      "See the caveats in the documentation: https://pandas.pydata.org/pandas-docs/stable/user_guide/indexing.html#returning-a-view-versus-a-copy\n",
      "  df1_sin_NAN['Customer Lifetime Value'] = df1_sin_NAN['Customer Lifetime Value'].astype(float)\n",
      "/var/folders/sp/p06qbz7d3qd0gsdys45vg8x80000gn/T/ipykernel_80001/957722470.py:5: SettingWithCopyWarning: \n",
      "A value is trying to be set on a copy of a slice from a DataFrame.\n",
      "Try using .loc[row_indexer,col_indexer] = value instead\n",
      "\n",
      "See the caveats in the documentation: https://pandas.pydata.org/pandas-docs/stable/user_guide/indexing.html#returning-a-view-versus-a-copy\n",
      "  df1_sin_NAN['Number of Complaints'] = df1_sin_NAN['Number of Complaints'].str.split('/').str[1].astype(int)\n"
     ]
    }
   ],
   "source": [
    "# Asegurarse que 'customer_lifetime_value' sea numérico\n",
    "df1_sin_NAN['Customer Lifetime Value'] = df1_sin_NAN['Customer Lifetime Value'].astype(float)\n",
    "\n",
    "# Formatear 'number_of_open_complaints'\n",
    "df1_sin_NAN['Number of Complaints'] = df1_sin_NAN['Number of Complaints'].str.split('/').str[1].astype(int)"
   ]
  },
  {
   "cell_type": "code",
   "execution_count": 189,
   "id": "d7b487d0",
   "metadata": {},
   "outputs": [
    {
     "data": {
      "text/plain": [
       "Customer                   0\n",
       "State                      0\n",
       "Gender                     0\n",
       "Education                  0\n",
       "Customer Lifetime Value    0\n",
       "Income                     0\n",
       "Monthly Premium Auto       0\n",
       "Number of Complaints       0\n",
       "Policy Type                0\n",
       "Vehicle Class              0\n",
       "Total Claim Amount         0\n",
       "dtype: int64"
      ]
     },
     "execution_count": 189,
     "metadata": {},
     "output_type": "execute_result"
    }
   ],
   "source": [
    "# Verificar si hay valores nulos\n",
    "df1.isnull().sum()\n",
    "\n",
    "# Eliminar filas con valores nulos\n",
    "df1 = df1.dropna(how='any')\n",
    "\n",
    "# Verificar nuevamente si hay valores nulos\n",
    "df1.isnull().sum()"
   ]
  },
  {
   "cell_type": "code",
   "execution_count": 190,
   "id": "dc766499",
   "metadata": {},
   "outputs": [
    {
     "name": "stdout",
     "output_type": "stream",
     "text": [
      "0\n"
     ]
    }
   ],
   "source": [
    "# Identificar duplicados\n",
    "duplicates = df1.duplicated()\n",
    "print(duplicates.sum())\n",
    "\n",
    "# Eliminar duplicados y resetear índice\n",
    "df1 = df1.drop_duplicates().reset_index(drop=True)"
   ]
  },
  {
   "cell_type": "code",
   "execution_count": 191,
   "id": "e38bc143",
   "metadata": {},
   "outputs": [
    {
     "name": "stdout",
     "output_type": "stream",
     "text": [
      "Index(['Customer', 'State', 'Gender', 'Education', 'Customer Lifetime Value',\n",
      "       'Income', 'Monthly Premium Auto', 'Number of Complaints',\n",
      "       'Total Claim Amount', 'Policy Type', 'Vehicle Class'],\n",
      "      dtype='object')\n"
     ]
    }
   ],
   "source": [
    "# Código de ejemplo para cambiar los nombres de las columnas\n",
    "column_mappings = {\n",
    "    'ST': 'State',\n",
    "    'GENDER': 'Gender',\n",
    "    'Number of Open Complaints': 'Number of Complaints',\n",
    "}\n",
    "\n",
    "df2 = df2.rename(columns=column_mappings)\n",
    "# Verificar los nuevos nombres de las columnas\n",
    "print(df2.columns)"
   ]
  },
  {
   "cell_type": "code",
   "execution_count": 192,
   "id": "70fb6ff9",
   "metadata": {},
   "outputs": [],
   "source": [
    "# Limpiar valores inválidos\n",
    "# Género\n",
    "replacements_gender = {\n",
    "    'F': 'F', 'Femal': 'F', 'female': 'F', 'M': 'M', 'Male': 'M'\n",
    "}\n",
    "df2['Gender'] = df2['Gender'].replace(replacements_gender)\n",
    "\n",
    "# Estado\n",
    "replacements_state = {\n",
    "    'arizona': 'Arizona', 'az': 'Arizona', 'california': 'California', 'cali': 'California', 'washington': 'Washington', 'wa': 'Washington'\n",
    "}\n",
    "df2['State'] = df2['State'].replace(replacements_state)\n",
    "\n",
    "# Educación\n",
    "replacements_education = {\n",
    "    'Bachelors': 'Bachelor', 'Masters': 'Master', 'High School or Below': 'High School or Below', 'College': 'College', 'Doctor': 'Doctor'\n",
    "}\n",
    "df2['Education'] = df2['Education'].replace(replacements_education)\n",
    "\n",
    "# Clase de vehículo\n",
    "replacements_vehicle = {\n",
    "    'Sports Car': 'Luxury', 'Luxury SUV': 'Luxury', 'Luxury Car': 'Luxury'\n",
    "}\n",
    "df2['Vehicle Class'] = df2['Vehicle Class'].replace(replacements_vehicle)\n",
    "\n",
    "# Customer Lifetime Value\n",
    "# Eliminar el carácter %\n",
    "df2['Customer Lifetime Value'] = df2['Customer Lifetime Value'].str.replace('%', '')"
   ]
  },
  {
   "cell_type": "code",
   "execution_count": 193,
   "id": "3557b508",
   "metadata": {},
   "outputs": [],
   "source": [
    "# Asegurarse que 'customer_lifetime_value' sea numérico\n",
    "df2['Customer Lifetime Value'] = df2['Customer Lifetime Value'].astype(float)\n",
    "\n",
    "# Formatear 'number_of_open_complaints'\n",
    "df2['Number of Complaints'] = df2['Number of Complaints'].str.split('/').str[1].astype(int)"
   ]
  },
  {
   "cell_type": "code",
   "execution_count": 194,
   "id": "c5f5ed57",
   "metadata": {},
   "outputs": [
    {
     "data": {
      "text/plain": [
       "Customer                   0\n",
       "State                      0\n",
       "Gender                     0\n",
       "Education                  0\n",
       "Customer Lifetime Value    0\n",
       "Income                     0\n",
       "Monthly Premium Auto       0\n",
       "Number of Complaints       0\n",
       "Total Claim Amount         0\n",
       "Policy Type                0\n",
       "Vehicle Class              0\n",
       "dtype: int64"
      ]
     },
     "execution_count": 194,
     "metadata": {},
     "output_type": "execute_result"
    }
   ],
   "source": [
    "# Verificar si hay valores nulos\n",
    "df2.isnull().sum()\n",
    "\n",
    "# Eliminar filas con valores nulos\n",
    "df2 = df2.dropna(how='any')\n",
    "\n",
    "# Verificar nuevamente si hay valores nulos\n",
    "df2.isnull().sum()"
   ]
  },
  {
   "cell_type": "code",
   "execution_count": 195,
   "id": "0d4ed37a",
   "metadata": {},
   "outputs": [
    {
     "name": "stdout",
     "output_type": "stream",
     "text": [
      "0\n"
     ]
    }
   ],
   "source": [
    "# Identificar duplicados\n",
    "duplicates = df2.duplicated()\n",
    "print(duplicates.sum())\n",
    "\n",
    "# Eliminar duplicados y resetear índice\n",
    "df2 = df2.drop_duplicates().reset_index(drop=True)"
   ]
  },
  {
   "cell_type": "code",
   "execution_count": 196,
   "id": "cd308977",
   "metadata": {},
   "outputs": [
    {
     "name": "stdout",
     "output_type": "stream",
     "text": [
      "Index(['Customer', 'State', 'Customer Lifetime Value', 'Education', 'Gender',\n",
      "       'Income', 'Monthly Premium Auto', 'Number of Complaints', 'Policy Type',\n",
      "       'Total Claim Amount', 'Vehicle Class'],\n",
      "      dtype='object')\n"
     ]
    }
   ],
   "source": [
    "# Código de ejemplo para cambiar los nombres de las columnas\n",
    "column_mappings = {\n",
    "    'Number of Open Complaints': 'Number of Complaints',\n",
    "}\n",
    "\n",
    "df3 = df3.rename(columns=column_mappings)\n",
    "# Verificar los nuevos nombres de las columnas\n",
    "print(df3.columns)"
   ]
  },
  {
   "cell_type": "code",
   "execution_count": 197,
   "id": "1559c304",
   "metadata": {},
   "outputs": [],
   "source": [
    "# Limpiar valores inválidos\n",
    "# Género\n",
    "replacements_gender = {\n",
    "    'F': 'F', 'Femal': 'F', 'female': 'F', 'M': 'M', 'Male': 'M'\n",
    "}\n",
    "df3['Gender'] = df3['Gender'].replace(replacements_gender)\n",
    "\n",
    "# Estado\n",
    "replacements_state = {\n",
    "    'arizona': 'Arizona', 'az': 'Arizona', 'california': 'California', 'cali': 'California', 'washington': 'Washington', 'wa': 'Washington'\n",
    "}\n",
    "df3['State'] = df3['State'].replace(replacements_state)\n",
    "\n",
    "# Educación\n",
    "replacements_education = {\n",
    "    'Bachelors': 'Bachelor', 'Masters': 'Master', 'High School or Below': 'High School or Below', 'College': 'College', 'Doctor': 'Doctor'\n",
    "}\n",
    "df3['Education'] = df3['Education'].replace(replacements_education)\n",
    "\n",
    "# Clase de vehículo\n",
    "replacements_vehicle = {\n",
    "    'Sports Car': 'Luxury', 'Luxury SUV': 'Luxury', 'Luxury Car': 'Luxury'\n",
    "}\n",
    "df3['Vehicle Class'] = df3['Vehicle Class'].replace(replacements_vehicle)\n"
   ]
  },
  {
   "cell_type": "code",
   "execution_count": 198,
   "id": "042fd985",
   "metadata": {},
   "outputs": [
    {
     "data": {
      "text/plain": [
       "Customer                    object\n",
       "State                       object\n",
       "Customer Lifetime Value    float64\n",
       "Education                   object\n",
       "Gender                      object\n",
       "Income                       int64\n",
       "Monthly Premium Auto         int64\n",
       "Number of Complaints         int64\n",
       "Policy Type                 object\n",
       "Total Claim Amount         float64\n",
       "Vehicle Class               object\n",
       "dtype: object"
      ]
     },
     "execution_count": 198,
     "metadata": {},
     "output_type": "execute_result"
    }
   ],
   "source": [
    "df3.dtypes"
   ]
  },
  {
   "cell_type": "code",
   "execution_count": 199,
   "id": "57ac33e3",
   "metadata": {},
   "outputs": [],
   "source": [
    "df3['Customer Lifetime Value'] = df3['Customer Lifetime Value'].astype(str)"
   ]
  },
  {
   "cell_type": "code",
   "execution_count": 200,
   "id": "61c661bd",
   "metadata": {},
   "outputs": [],
   "source": [
    "# Customer Lifetime Value\n",
    "# Eliminar el carácter %\n",
    "df3['Customer Lifetime Value'] = df3['Customer Lifetime Value'].str.replace('%', '')"
   ]
  },
  {
   "cell_type": "code",
   "execution_count": 201,
   "id": "da6dc468",
   "metadata": {},
   "outputs": [],
   "source": [
    "# Asegurarse que 'customer_lifetime_value' sea numérico\n",
    "df3['Customer Lifetime Value'] = df3['Customer Lifetime Value'].astype(float)"
   ]
  },
  {
   "cell_type": "code",
   "execution_count": 202,
   "id": "54400301",
   "metadata": {},
   "outputs": [],
   "source": [
    "df3['Number of Complaints'] = df3['Number of Complaints'].astype(str)"
   ]
  },
  {
   "cell_type": "code",
   "execution_count": 203,
   "id": "a473a4ec",
   "metadata": {},
   "outputs": [
    {
     "data": {
      "text/plain": [
       "Customer                   0\n",
       "State                      0\n",
       "Customer Lifetime Value    0\n",
       "Education                  0\n",
       "Gender                     0\n",
       "Income                     0\n",
       "Monthly Premium Auto       0\n",
       "Number of Complaints       0\n",
       "Policy Type                0\n",
       "Total Claim Amount         0\n",
       "Vehicle Class              0\n",
       "dtype: int64"
      ]
     },
     "execution_count": 203,
     "metadata": {},
     "output_type": "execute_result"
    }
   ],
   "source": [
    "# Verificar si hay valores nulos\n",
    "df3.isnull().sum()\n",
    "\n",
    "# Eliminar filas con valores nulos\n",
    "df3 = df3.dropna(how='any')\n",
    "\n",
    "# Verificar nuevamente si hay valores nulos\n",
    "df3.isnull().sum()"
   ]
  },
  {
   "cell_type": "code",
   "execution_count": 204,
   "id": "d66eb5a6",
   "metadata": {},
   "outputs": [
    {
     "name": "stdout",
     "output_type": "stream",
     "text": [
      "0\n"
     ]
    }
   ],
   "source": [
    "# Identificar duplicados\n",
    "duplicates = df3.duplicated()\n",
    "print(duplicates.sum())\n",
    "\n",
    "# Eliminar duplicados y resetear índice\n",
    "df3 = df3.drop_duplicates().reset_index(drop=True)"
   ]
  },
  {
   "cell_type": "code",
   "execution_count": 205,
   "id": "97d95ce5",
   "metadata": {},
   "outputs": [],
   "source": [
    "df1['Number of Complaints'] = df1['Number of Complaints'].str.split('/').str[1].astype(int)"
   ]
  },
  {
   "cell_type": "code",
   "execution_count": 206,
   "id": "cdd4cb72",
   "metadata": {},
   "outputs": [],
   "source": [
    "df1['Number of Complaints'] = df1['Number of Complaints'].astype(int)"
   ]
  },
  {
   "cell_type": "code",
   "execution_count": 207,
   "id": "dd877471",
   "metadata": {},
   "outputs": [],
   "source": [
    "df2['Income'] = df2['Income'].astype(float)"
   ]
  },
  {
   "cell_type": "code",
   "execution_count": 208,
   "id": "0c359910",
   "metadata": {},
   "outputs": [],
   "source": [
    "df3['Income'] = df3['Income'].astype(float)"
   ]
  },
  {
   "cell_type": "code",
   "execution_count": 214,
   "id": "2dbd7115",
   "metadata": {},
   "outputs": [],
   "source": [
    "df1['Customer Lifetime Value'] = df1['Customer Lifetime Value'].astype(float)"
   ]
  },
  {
   "cell_type": "code",
   "execution_count": 216,
   "id": "e12e7603",
   "metadata": {},
   "outputs": [],
   "source": [
    "df1['Monthly Premium Auto'] = df1['Monthly Premium Auto'].astype(int)"
   ]
  },
  {
   "cell_type": "code",
   "execution_count": 218,
   "id": "30b99977",
   "metadata": {},
   "outputs": [],
   "source": [
    "df3['Number of Complaints'] = df3['Number of Complaints'].astype(int)"
   ]
  },
  {
   "cell_type": "code",
   "execution_count": 217,
   "id": "d8610e0a",
   "metadata": {},
   "outputs": [
    {
     "data": {
      "text/plain": [
       "Customer                    object\n",
       "State                       object\n",
       "Gender                      object\n",
       "Education                   object\n",
       "Customer Lifetime Value    float64\n",
       "Income                     float64\n",
       "Monthly Premium Auto         int64\n",
       "Number of Complaints         int64\n",
       "Policy Type                 object\n",
       "Vehicle Class               object\n",
       "Total Claim Amount         float64\n",
       "dtype: object"
      ]
     },
     "execution_count": 217,
     "metadata": {},
     "output_type": "execute_result"
    }
   ],
   "source": [
    "df1.dtypes"
   ]
  },
  {
   "cell_type": "code",
   "execution_count": 210,
   "id": "8acecf9e",
   "metadata": {},
   "outputs": [
    {
     "data": {
      "text/plain": [
       "Customer                    object\n",
       "State                       object\n",
       "Gender                      object\n",
       "Education                   object\n",
       "Customer Lifetime Value    float64\n",
       "Income                     float64\n",
       "Monthly Premium Auto         int64\n",
       "Number of Complaints         int64\n",
       "Total Claim Amount         float64\n",
       "Policy Type                 object\n",
       "Vehicle Class               object\n",
       "dtype: object"
      ]
     },
     "execution_count": 210,
     "metadata": {},
     "output_type": "execute_result"
    }
   ],
   "source": [
    "df2.dtypes"
   ]
  },
  {
   "cell_type": "code",
   "execution_count": 219,
   "id": "657f4d65",
   "metadata": {},
   "outputs": [
    {
     "data": {
      "text/plain": [
       "Customer                    object\n",
       "State                       object\n",
       "Customer Lifetime Value    float64\n",
       "Education                   object\n",
       "Gender                      object\n",
       "Income                     float64\n",
       "Monthly Premium Auto         int64\n",
       "Number of Complaints         int64\n",
       "Policy Type                 object\n",
       "Total Claim Amount         float64\n",
       "Vehicle Class               object\n",
       "dtype: object"
      ]
     },
     "execution_count": 219,
     "metadata": {},
     "output_type": "execute_result"
    }
   ],
   "source": [
    "df3.dtypes"
   ]
  },
  {
   "cell_type": "code",
   "execution_count": 247,
   "id": "856b5e20",
   "metadata": {},
   "outputs": [
    {
     "name": "stdout",
     "output_type": "stream",
     "text": [
      "  Customer Policy Type  Number of Complaints Vehicle Class  \\\n",
      "0  AA10041         NaN                   NaN           NaN   \n",
      "1  AA11235         NaN                   NaN           NaN   \n",
      "2  AA16582         NaN                   NaN           NaN   \n",
      "3  AA30683         NaN                   NaN           NaN   \n",
      "4  AA34092         NaN                   NaN           NaN   \n",
      "\n",
      "   Total Claim Amount  Monthly Premium Auto Education State  \\\n",
      "0                 NaN                   NaN       NaN   NaN   \n",
      "1                 NaN                   NaN       NaN   NaN   \n",
      "2                 NaN                   NaN       NaN   NaN   \n",
      "3                 NaN                   NaN       NaN   NaN   \n",
      "4                 NaN                   NaN       NaN   NaN   \n",
      "\n",
      "   Customer Lifetime Value  Income  ... Policy Type_drop  \\\n",
      "0                      NaN     NaN  ...              NaN   \n",
      "1                      NaN     NaN  ...              NaN   \n",
      "2                      NaN     NaN  ...              NaN   \n",
      "3                      NaN     NaN  ...              NaN   \n",
      "4                      NaN     NaN  ...              NaN   \n",
      "\n",
      "  Number of Complaints_drop  Vehicle Class_drop Total Claim Amount_drop  \\\n",
      "0                       NaN                 NaN                     NaN   \n",
      "1                       NaN                 NaN                     NaN   \n",
      "2                       NaN                 NaN                     NaN   \n",
      "3                       NaN                 NaN                     NaN   \n",
      "4                       NaN                 NaN                     NaN   \n",
      "\n",
      "   Monthly Premium Auto_drop  Education_drop State_drop  \\\n",
      "0                        NaN             NaN        NaN   \n",
      "1                        NaN             NaN        NaN   \n",
      "2                        NaN             NaN        NaN   \n",
      "3                        NaN             NaN        NaN   \n",
      "4                        NaN             NaN        NaN   \n",
      "\n",
      "  Customer Lifetime Value_drop  Income_drop  Gender_drop  \n",
      "0                          NaN          NaN          NaN  \n",
      "1                          NaN          NaN          NaN  \n",
      "2                          NaN          NaN          NaN  \n",
      "3                          NaN          NaN          NaN  \n",
      "4                          NaN          NaN          NaN  \n",
      "\n",
      "[5 rows x 21 columns]\n"
     ]
    }
   ],
   "source": [
    "no "
   ]
  },
  {
   "cell_type": "code",
   "execution_count": 250,
   "id": "ad73d3fe",
   "metadata": {},
   "outputs": [
    {
     "data": {
      "text/plain": [
       "Customer                         object\n",
       "Policy Type                      object\n",
       "Number of Complaints            float64\n",
       "Vehicle Class                    object\n",
       "Total Claim Amount              float64\n",
       "Monthly Premium Auto            float64\n",
       "Education                        object\n",
       "State                            object\n",
       "Customer Lifetime Value         float64\n",
       "Income                          float64\n",
       "Gender                           object\n",
       "Policy Type_drop                 object\n",
       "Number of Complaints_drop       float64\n",
       "Vehicle Class_drop               object\n",
       "Total Claim Amount_drop         float64\n",
       "Monthly Premium Auto_drop       float64\n",
       "Education_drop                   object\n",
       "State_drop                       object\n",
       "Customer Lifetime Value_drop    float64\n",
       "Income_drop                     float64\n",
       "Gender_drop                      object\n",
       "dtype: object"
      ]
     },
     "execution_count": 250,
     "metadata": {},
     "output_type": "execute_result"
    }
   ],
   "source": [
    "df_merged.dtypes"
   ]
  },
  {
   "cell_type": "markdown",
   "id": "31b8a9e7-7db9-4604-991b-ef6771603e57",
   "metadata": {
    "id": "31b8a9e7-7db9-4604-991b-ef6771603e57"
   },
   "source": [
    "# Challenge 2: Structuring Data"
   ]
  },
  {
   "cell_type": "markdown",
   "id": "a877fd6d-7a0c-46d2-9657-f25036e4ca4b",
   "metadata": {
    "id": "a877fd6d-7a0c-46d2-9657-f25036e4ca4b"
   },
   "source": [
    "In this challenge, we will continue to work with customer data from an insurance company, but we will use a dataset with more columns, called marketing_customer_analysis.csv, which can be found at the following link:\n",
    "\n",
    "https://raw.githubusercontent.com/data-bootcamp-v4/data/main/marketing_customer_analysis_clean.csv\n",
    "\n",
    "This dataset contains information such as customer demographics, policy details, vehicle information, and the customer's response to the last marketing campaign. Our goal is to explore and analyze this data by performing data cleaning, formatting, and structuring."
   ]
  },
  {
   "cell_type": "code",
   "execution_count": 251,
   "id": "aa10d9b0-1c27-4d3f-a8e4-db6ab73bfd26",
   "metadata": {
    "id": "aa10d9b0-1c27-4d3f-a8e4-db6ab73bfd26"
   },
   "outputs": [
    {
     "name": "stdout",
     "output_type": "stream",
     "text": [
      "<class 'pandas.core.frame.DataFrame'>\n",
      "RangeIndex: 10910 entries, 0 to 10909\n",
      "Data columns (total 27 columns):\n",
      " #   Column                         Non-Null Count  Dtype  \n",
      "---  ------                         --------------  -----  \n",
      " 0   unnamed:_0                     10910 non-null  int64  \n",
      " 1   customer                       10910 non-null  object \n",
      " 2   state                          10910 non-null  object \n",
      " 3   customer_lifetime_value        10910 non-null  float64\n",
      " 4   response                       10910 non-null  object \n",
      " 5   coverage                       10910 non-null  object \n",
      " 6   education                      10910 non-null  object \n",
      " 7   effective_to_date              10910 non-null  object \n",
      " 8   employmentstatus               10910 non-null  object \n",
      " 9   gender                         10910 non-null  object \n",
      " 10  income                         10910 non-null  int64  \n",
      " 11  location_code                  10910 non-null  object \n",
      " 12  marital_status                 10910 non-null  object \n",
      " 13  monthly_premium_auto           10910 non-null  int64  \n",
      " 14  months_since_last_claim        10910 non-null  float64\n",
      " 15  months_since_policy_inception  10910 non-null  int64  \n",
      " 16  number_of_open_complaints      10910 non-null  float64\n",
      " 17  number_of_policies             10910 non-null  int64  \n",
      " 18  policy_type                    10910 non-null  object \n",
      " 19  policy                         10910 non-null  object \n",
      " 20  renew_offer_type               10910 non-null  object \n",
      " 21  sales_channel                  10910 non-null  object \n",
      " 22  total_claim_amount             10910 non-null  float64\n",
      " 23  vehicle_class                  10910 non-null  object \n",
      " 24  vehicle_size                   10910 non-null  object \n",
      " 25  vehicle_type                   10910 non-null  object \n",
      " 26  month                          10910 non-null  int64  \n",
      "dtypes: float64(4), int64(6), object(17)\n",
      "memory usage: 2.2+ MB\n"
     ]
    },
    {
     "data": {
      "text/plain": [
       "(   unnamed:_0 customer       state  customer_lifetime_value response  \\\n",
       " 0           0  DK49336     Arizona              4809.216960       No   \n",
       " 1           1  KX64629  California              2228.525238       No   \n",
       " 2           2  LZ68649  Washington             14947.917300       No   \n",
       " 3           3  XL78013      Oregon             22332.439460      Yes   \n",
       " 4           4  QA50777      Oregon              9025.067525       No   \n",
       " \n",
       "    coverage education effective_to_date employmentstatus gender  ...  \\\n",
       " 0     Basic   College        2011-02-18         Employed      M  ...   \n",
       " 1     Basic   College        2011-01-18       Unemployed      F  ...   \n",
       " 2     Basic  Bachelor        2011-02-10         Employed      M  ...   \n",
       " 3  Extended   College        2011-01-11         Employed      M  ...   \n",
       " 4   Premium  Bachelor        2011-01-17    Medical Leave      F  ...   \n",
       " \n",
       "    number_of_policies     policy_type        policy  renew_offer_type  \\\n",
       " 0                   9  Corporate Auto  Corporate L3            Offer3   \n",
       " 1                   1   Personal Auto   Personal L3            Offer4   \n",
       " 2                   2   Personal Auto   Personal L3            Offer3   \n",
       " 3                   2  Corporate Auto  Corporate L3            Offer2   \n",
       " 4                   7   Personal Auto   Personal L2            Offer1   \n",
       " \n",
       "    sales_channel  total_claim_amount  vehicle_class  vehicle_size  \\\n",
       " 0          Agent          292.800000  Four-Door Car       Medsize   \n",
       " 1    Call Center          744.924331  Four-Door Car       Medsize   \n",
       " 2    Call Center          480.000000            SUV       Medsize   \n",
       " 3         Branch          484.013411  Four-Door Car       Medsize   \n",
       " 4         Branch          707.925645  Four-Door Car       Medsize   \n",
       " \n",
       "   vehicle_type month  \n",
       " 0            A     2  \n",
       " 1            A     1  \n",
       " 2            A     2  \n",
       " 3            A     1  \n",
       " 4            A     1  \n",
       " \n",
       " [5 rows x 27 columns],\n",
       " None)"
      ]
     },
     "execution_count": 251,
     "metadata": {},
     "output_type": "execute_result"
    }
   ],
   "source": [
    "# Cargaremos el archivo CSV proporcionado desde el enlace correcto\n",
    "data_url = 'https://raw.githubusercontent.com/data-bootcamp-v4/data/main/marketing_customer_analysis_clean.csv'\n",
    "data = pd.read_csv(data_url)\n",
    "\n",
    "# Mostrar las primeras filas del dataframe y la información de las columnas\n",
    "data.head(), data.info()\n"
   ]
  },
  {
   "cell_type": "markdown",
   "id": "df35fd0d-513e-4e77-867e-429da10a9cc7",
   "metadata": {
    "id": "df35fd0d-513e-4e77-867e-429da10a9cc7"
   },
   "source": [
    "1. You work at the marketing department and you want to know which sales channel brought the most sales in terms of total revenue. Using pivot, create a summary table showing the total revenue for each sales channel (branch, call center, web, and mail).\n",
    "Round the total revenue to 2 decimal points.  Analyze the resulting table to draw insights."
   ]
  },
  {
   "cell_type": "code",
   "execution_count": 252,
   "id": "80b22034",
   "metadata": {},
   "outputs": [
    {
     "data": {
      "text/plain": [
       "sales_channel\n",
       "Agent          1810226.82\n",
       "Branch         1301204.00\n",
       "Call Center     926600.82\n",
       "Web             706600.04\n",
       "Name: total_claim_amount, dtype: float64"
      ]
     },
     "execution_count": 252,
     "metadata": {},
     "output_type": "execute_result"
    }
   ],
   "source": [
    "total_revenue_by_channel = data.groupby('sales_channel')['total_claim_amount'].sum().round(2)\n",
    "\n",
    "total_revenue_by_channel\n"
   ]
  },
  {
   "cell_type": "markdown",
   "id": "640993b2-a291-436c-a34d-a551144f8196",
   "metadata": {
    "id": "640993b2-a291-436c-a34d-a551144f8196"
   },
   "source": [
    "2. Create a pivot table that shows the average customer lifetime value per gender and education level. Analyze the resulting table to draw insights."
   ]
  },
  {
   "cell_type": "code",
   "execution_count": 253,
   "id": "06a6e447",
   "metadata": {},
   "outputs": [
    {
     "data": {
      "text/html": [
       "<div>\n",
       "<style scoped>\n",
       "    .dataframe tbody tr th:only-of-type {\n",
       "        vertical-align: middle;\n",
       "    }\n",
       "\n",
       "    .dataframe tbody tr th {\n",
       "        vertical-align: top;\n",
       "    }\n",
       "\n",
       "    .dataframe thead th {\n",
       "        text-align: right;\n",
       "    }\n",
       "</style>\n",
       "<table border=\"1\" class=\"dataframe\">\n",
       "  <thead>\n",
       "    <tr style=\"text-align: right;\">\n",
       "      <th>gender</th>\n",
       "      <th>F</th>\n",
       "      <th>M</th>\n",
       "    </tr>\n",
       "    <tr>\n",
       "      <th>education</th>\n",
       "      <th></th>\n",
       "      <th></th>\n",
       "    </tr>\n",
       "  </thead>\n",
       "  <tbody>\n",
       "    <tr>\n",
       "      <th>Bachelor</th>\n",
       "      <td>7874.27</td>\n",
       "      <td>7703.60</td>\n",
       "    </tr>\n",
       "    <tr>\n",
       "      <th>College</th>\n",
       "      <td>7748.82</td>\n",
       "      <td>8052.46</td>\n",
       "    </tr>\n",
       "    <tr>\n",
       "      <th>Doctor</th>\n",
       "      <td>7328.51</td>\n",
       "      <td>7415.33</td>\n",
       "    </tr>\n",
       "    <tr>\n",
       "      <th>High School or Below</th>\n",
       "      <td>8675.22</td>\n",
       "      <td>8149.69</td>\n",
       "    </tr>\n",
       "    <tr>\n",
       "      <th>Master</th>\n",
       "      <td>8157.05</td>\n",
       "      <td>8168.83</td>\n",
       "    </tr>\n",
       "  </tbody>\n",
       "</table>\n",
       "</div>"
      ],
      "text/plain": [
       "gender                      F        M\n",
       "education                             \n",
       "Bachelor              7874.27  7703.60\n",
       "College               7748.82  8052.46\n",
       "Doctor                7328.51  7415.33\n",
       "High School or Below  8675.22  8149.69\n",
       "Master                8157.05  8168.83"
      ]
     },
     "execution_count": 253,
     "metadata": {},
     "output_type": "execute_result"
    }
   ],
   "source": [
    "# Crear una tabla pivote para mostrar el valor promedio de vida del cliente por género y nivel educativo\n",
    "pivot_table_lifetime_value = pd.pivot_table(data, values='customer_lifetime_value', index='education', columns='gender', aggfunc='mean').round(2)\n",
    "\n",
    "pivot_table_lifetime_value\n"
   ]
  },
  {
   "cell_type": "markdown",
   "id": "013a55b1",
   "metadata": {},
   "source": [
    "Análisis:\n",
    "\n",
    "* Los clientes con nivel educativo de \"Secundaria o Inferior\" tienen los valores más altos de vida del cliente (LTV) en ambos géneros, seguido por aquellos con maestría.\n",
    "* En la mayoría de los niveles educativos, los hombres tienen un LTV ligeramente superior comparado con las mujeres, excepto en los niveles de bachillerato y doctorado donde las mujeres tienen un valor ligeramente superior.\n",
    "* Los clientes con doctorado tienen menor LTV, lo que podría ser un área de interés para investigar por qué sucede esto."
   ]
  }
 ],
 "metadata": {
  "colab": {
   "provenance": []
  },
  "kernelspec": {
   "display_name": "Python 3 (ipykernel)",
   "language": "python",
   "name": "python3"
  },
  "language_info": {
   "codemirror_mode": {
    "name": "ipython",
    "version": 3
   },
   "file_extension": ".py",
   "mimetype": "text/x-python",
   "name": "python",
   "nbconvert_exporter": "python",
   "pygments_lexer": "ipython3",
   "version": "3.11.7"
  }
 },
 "nbformat": 4,
 "nbformat_minor": 5
}
